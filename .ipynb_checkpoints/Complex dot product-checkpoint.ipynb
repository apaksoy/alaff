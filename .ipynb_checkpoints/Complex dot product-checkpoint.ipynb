{
 "cells": [
  {
   "cell_type": "code",
   "execution_count": 22,
   "metadata": {},
   "outputs": [
    {
     "name": "stdout",
     "output_type": "stream",
     "text": [
      "chi_0 = (1+1j)\n",
      "chi_1 = (-5-1j)\n",
      "psi_0 = (3+2j)\n",
      "psi_1 = (1-1j)\n",
      "\n",
      "x = array([[ 1.+1.j, -5.-1.j]])\n",
      "y = array([[3.+2.j, 1.-1.j]])\n",
      "\n",
      "x_y = array([[1.+5.j]])\n",
      "None\n",
      "y_x = array([[1.-5.j]])\n",
      "None\n"
     ]
    }
   ],
   "source": [
    "import random\n",
    "import numpy as np\n",
    "\n",
    "# seed the random number generator so that we get the same \"random\" vectors\n",
    "random.seed(0)\n",
    "\n",
    "chi_0 = complex(random.randint(-5,5), random.randint(-5,5))\n",
    "chi_1 = complex(random.randint(-5,5), random.randint(-5,5))\n",
    "psi_0 = complex(random.randint(-5,5), random.randint(-5,5))\n",
    "psi_1 = complex(random.randint(-5,5), random.randint(-5,5))\n",
    "\n",
    "print(f\"{chi_0 = }\")\n",
    "print(f\"{chi_1 = }\")\n",
    "print(f\"{psi_0 = }\")\n",
    "print(f\"{psi_1 = }\")\n",
    "print()\n",
    "\n",
    "# create the vectors with complex numbers\n",
    "x = np.array([[chi_0, chi_1]])\n",
    "y = np.array([[psi_0, psi_1]])\n",
    "\n",
    "print(f\"{x = }\")\n",
    "print(f\"{y = }\")\n",
    "print()\n",
    "\n",
    "# this is how vectors are multiplied when the elements are complex\n",
    "# this shows conj(x).y = conj(con(y).x)\n",
    "x_y = x.conjugate().dot(y.T) # operation same as np.dot(x.conjugate(), y.T)\n",
    "y_x = np.dot(y.conjugate(), x.T) \n",
    "\n",
    "print(print(f\"{x_y = }\"))\n",
    "print(print(f\"{y_x = }\"))\n",
    "\n"
   ]
  }
 ],
 "metadata": {
  "kernelspec": {
   "display_name": "Python 3",
   "language": "python",
   "name": "python3"
  },
  "language_info": {
   "codemirror_mode": {
    "name": "ipython",
    "version": 3
   },
   "file_extension": ".py",
   "mimetype": "text/x-python",
   "name": "python",
   "nbconvert_exporter": "python",
   "pygments_lexer": "ipython3",
   "version": "3.8.1"
  }
 },
 "nbformat": 4,
 "nbformat_minor": 2
}
