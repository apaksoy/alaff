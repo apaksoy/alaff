{
 "cells": [
  {
   "cell_type": "code",
   "execution_count": 25,
   "metadata": {},
   "outputs": [
    {
     "name": "stdout",
     "output_type": "stream",
     "text": [
      "2-norm of [1 1]: 1.4142135623730951 \n",
      "\n",
      "1-norm of [1 1]: 2.0\n",
      "1-norm of [[1 1]]: 1.0\n",
      "1-norm of [[1]\n",
      " [1]]: 2.0 \n",
      "\n",
      "inf-norm of [1 1]: 1.0\n",
      "inf-norm of [[1 1]]: 2.0\n",
      "inf-norm of [[1]\n",
      " [1]]: 1.0 \n",
      "\n",
      "2-norm of [1 1]: 1.4142135623730951\n",
      "2-norm of [[1 1]]: 1.4142135623730951\n",
      "2-norm of [[1]\n",
      " [1]]: 1.4142135623730951\n",
      "\n",
      "A = array([[1, 1],\n",
      "       [1, 1]])\n",
      "x = array([1, 1])\n",
      "A * x =  [2 2]\n",
      "\n",
      "A = array([[1, 1],\n",
      "       [1, 1]])\n",
      "x = array([[1],\n",
      "       [1]])\n",
      "A * x =  [[2]\n",
      " [2]]\n",
      "\n",
      "A = array([[1, 1],\n",
      "       [1, 1]])\n",
      "x = array([[1, 1]])\n",
      "This should throw an error as A and X do not conform:\n"
     ]
    },
    {
     "ename": "ValueError",
     "evalue": "shapes (2,2) and (1,2) not aligned: 2 (dim 1) != 1 (dim 0)",
     "output_type": "error",
     "traceback": [
      "\u001b[0;31m---------------------------------------------------------------------------\u001b[0m",
      "\u001b[0;31mValueError\u001b[0m                                Traceback (most recent call last)",
      "\u001b[0;32m<ipython-input-25-01d4e66c8920>\u001b[0m in \u001b[0;36m<module>\u001b[0;34m\u001b[0m\n\u001b[1;32m     49\u001b[0m \u001b[0mprint\u001b[0m\u001b[0;34m(\u001b[0m\u001b[0;34mf\"{x = }\"\u001b[0m\u001b[0;34m)\u001b[0m\u001b[0;34m\u001b[0m\u001b[0;34m\u001b[0m\u001b[0m\n\u001b[1;32m     50\u001b[0m \u001b[0mprint\u001b[0m\u001b[0;34m(\u001b[0m\u001b[0;34m\"This should throw an error as A and X do not conform:\"\u001b[0m\u001b[0;34m)\u001b[0m\u001b[0;34m\u001b[0m\u001b[0;34m\u001b[0m\u001b[0m\n\u001b[0;32m---> 51\u001b[0;31m \u001b[0mprint\u001b[0m\u001b[0;34m(\u001b[0m\u001b[0;34m\"A * x = \"\u001b[0m\u001b[0;34m,\u001b[0m\u001b[0mnp\u001b[0m\u001b[0;34m.\u001b[0m\u001b[0mdot\u001b[0m\u001b[0;34m(\u001b[0m\u001b[0mA\u001b[0m\u001b[0;34m,\u001b[0m\u001b[0mx\u001b[0m\u001b[0;34m)\u001b[0m\u001b[0;34m)\u001b[0m\u001b[0;34m\u001b[0m\u001b[0;34m\u001b[0m\u001b[0m\n\u001b[0m\u001b[1;32m     52\u001b[0m \u001b[0;34m\u001b[0m\u001b[0m\n\u001b[1;32m     53\u001b[0m \u001b[0;34m\u001b[0m\u001b[0m\n",
      "\u001b[0;32m<__array_function__ internals>\u001b[0m in \u001b[0;36mdot\u001b[0;34m(*args, **kwargs)\u001b[0m\n",
      "\u001b[0;31mValueError\u001b[0m: shapes (2,2) and (1,2) not aligned: 2 (dim 1) != 1 (dim 0)"
     ]
    }
   ],
   "source": [
    "# https://scipy.github.io/devdocs/generated/scipy.linalg.norm.html#scipy.linalg.norm\n",
    "\n",
    "import numpy as np\n",
    "from scipy.linalg import norm\n",
    "\n",
    "# The below shows how norms work in Scipy\n",
    "\n",
    "# norm measures the 2-norm for vectors \n",
    "# and the Frobenius norm for matrices bydefault\n",
    "x = np.array([1, 1])\n",
    "print(f\"2-norm of {x}:\", norm(x), \"\\n\")\n",
    "\n",
    "# norm() calculates the norm of both vectors and matrices\n",
    "# It views any 2D array as a matrix and correctly calculates\n",
    "# any norm of a row vector as a 2D array as a matrix whereas calculating\n",
    "# any norm of a column vector as a 2D array same as its vector norm.\n",
    "A = np.array([[1, 1]])\n",
    "B = np.array([[1], [1]])\n",
    "x = np.array([1, 1])\n",
    "\n",
    "print(f\"1-norm of {x}:\", norm(x, 1))\n",
    "print(f\"1-norm of {A}:\", norm(A, 1)) \n",
    "print(f\"1-norm of {B}:\", norm(B, 1), \"\\n\") \n",
    "print(f\"inf-norm of {x}:\", norm(x, np.inf))\n",
    "print(f\"inf-norm of {A}:\", norm(A, np.inf))\n",
    "print(f\"inf-norm of {B}:\", norm(B, np.inf), \"\\n\")\n",
    "print(f\"2-norm of {x}:\", norm(x, 2))\n",
    "print(f\"2-norm of {A}:\", norm(A, 2)) \n",
    "print(f\"2-norm of {B}:\", norm(B, 2))\n",
    "\n",
    "# Observe how a vector remains a vector in 1D when multiplied with a matrix\n",
    "print()\n",
    "A = np.array([[1, 1],[1, 1]])\n",
    "x = np.array([1, 1])\n",
    "print(f\"{A = }\")\n",
    "print(f\"{x = }\")\n",
    "print(\"A * x = \",np.dot(A,x))\n",
    "\n",
    "# Row and colun vector differences are observed correctly in 2D \n",
    "# in matrix multiplications as well\n",
    "print()\n",
    "A = np.array([[1, 1],[1, 1]])\n",
    "x = np.array([[1],[1]])\n",
    "print(f\"{A = }\")\n",
    "print(f\"{x = }\")\n",
    "print(\"A * x = \",np.dot(A,x))\n",
    "print()\n",
    "x = np.array([[1, 1]])\n",
    "print(f\"{A = }\")\n",
    "print(f\"{x = }\")\n",
    "print(\"This should throw an error as A and X do not conform:\")\n",
    "print(\"A * x = \",np.dot(A,x))"
   ]
  },
  {
   "cell_type": "code",
   "execution_count": null,
   "metadata": {},
   "outputs": [],
   "source": []
  },
  {
   "cell_type": "code",
   "execution_count": 115,
   "metadata": {},
   "outputs": [
    {
     "name": "stdout",
     "output_type": "stream",
     "text": [
      "2-norm of A * x: 3.0\n",
      "2-norm of x: 1.7320508075688772\n",
      "||A*x||_2/||x||_2: 1.7320508075688774\n",
      "\n",
      "1-norm of A * x: 3.0\n",
      "1-norm of x: 3.0\n",
      "1-norm of A: 1.0\n",
      "\n",
      "√n * A_1 - ||A*x||_2/||x||_2 should be = 0 for a tight bound\n",
      "-2.220446049250313e-16\n"
     ]
    }
   ],
   "source": [
    "# Compare the equivalence of the matrix 2-norm and matrix 1-norm of a matrix\n",
    "# According to theory ||A||_2 ≤ √n * ||A||_1 \n",
    "# where A is an m by n complex matrix.\n",
    "\n",
    "import numpy as np\n",
    "from scipy.linalg import norm\n",
    "import math\n",
    "\n",
    "A = np.array([[1, 1, 1]])\n",
    "x = np.array([[1], [1], [1]])\n",
    "\n",
    "n = x.size # size of the vector\n",
    "Ax_2 = norm(np.dot(A,x))\n",
    "x_2 = norm(x)\n",
    "A_2 = Ax_2 / x_2\n",
    "\n",
    "print(\"2-norm of A * x:\", Ax_2)\n",
    "print(\"2-norm of x:\", x_2)\n",
    "print(\"||A*x||_2/||x||_2:\", A_2)\n",
    "\n",
    "Ax_1 = norm(np.dot(A,x), 1)\n",
    "x_1 = norm(x, 1)\n",
    "A_1 = Ax_1 / x_1\n",
    "\n",
    "print()\n",
    "print(\"1-norm of A * x:\", Ax_1)\n",
    "print(\"1-norm of x:\", x_1)\n",
    "print(\"1-norm of A:\", A_1)\n",
    "\n",
    "print()\n",
    "print(\"√n * A_1 - ||A*x||_2/||x||_2 should be = 0 for a tight bound\")\n",
    "print(math.sqrt(n) * A_1 - A_2)"
   ]
  },
  {
   "cell_type": "code",
   "execution_count": 132,
   "metadata": {},
   "outputs": [
    {
     "name": "stdout",
     "output_type": "stream",
     "text": [
      "A=\n",
      "[[0.4559811  0.71754112 0.17077768]\n",
      " [0.50622224 0.0856661  0.38735517]]\n",
      "\n",
      "Frobenius norm of A =  1.0796261902234436\n",
      "\n",
      "x = array([[1],\n",
      "       [1],\n",
      "       [1]])\n",
      "norm(A*x) = 1.6631476492955195\n"
     ]
    }
   ],
   "source": [
    "# Demonstration of ||A||_F ≠ ||Ax||_2 where A is m by n. \n",
    "# In fact, as can be demonstrated algebraically ||A||_F ≤ ||Ax||_2\n",
    "\n",
    "import numpy as np\n",
    "from scipy.linalg import norm\n",
    "import math\n",
    "\n",
    "A = np.random.random((2,3))\n",
    "print(\"A=\")\n",
    "print(A)\n",
    "\n",
    "print()\n",
    "print(\"Frobenius norm of A = \", norm(A))\n",
    "\n",
    "x = np.array([[1],[1],[1]])\n",
    "print()\n",
    "print(f\"{x = }\")\n",
    "print(\"norm(A*x) =\", norm(np.dot(A,x)))"
   ]
  },
  {
   "cell_type": "code",
   "execution_count": 116,
   "metadata": {},
   "outputs": [
    {
     "name": "stdout",
     "output_type": "stream",
     "text": [
      "Frobenius norm of A: 2.0\n",
      "A.shape = (4, 1)\n",
      "\n",
      "1-norm of A * x: 2.0\n",
      "1-norm of x: 0.5\n",
      "1-norm of A: 4.0\n",
      "\n",
      "√m * A_F - A_1 should be ≥ 0\n",
      "0.0\n"
     ]
    }
   ],
   "source": [
    "# Compare the equivalence of the 1-norm and the Frobenius norm of a matrix\n",
    "# According to theory ||A||_1 ≤ √m * ||A||_F \n",
    "# where A is an m by n complex matrix.\n",
    "\n",
    "import numpy as np\n",
    "from scipy.linalg import norm\n",
    "import math\n",
    "\n",
    "A = np.array([[1], [1], [1], [1]])\n",
    "x = np.array([[0.5]])\n",
    "\n",
    "A_F = norm(A)\n",
    "print(\"Frobenius norm of A:\", A_F)\n",
    "\n",
    "\n",
    "print(f\"{A.shape = }\")\n",
    "m, n = A.shape\n",
    "Ax_1 = norm(np.dot(A,x), 1)\n",
    "x_1 = norm(x, 1)\n",
    "A_1 = Ax_1 / x_1\n",
    "\n",
    "print()\n",
    "print(\"1-norm of A * x:\", Ax_1)\n",
    "print(\"1-norm of x:\", x_1)\n",
    "print(\"1-norm of A:\", A_1)\n",
    "\n",
    "print()\n",
    "print(\"√m * A_F - A_1 should be ≥ 0\")\n",
    "print(math.sqrt(m) * A_F - A_1)\n",
    "\n"
   ]
  },
  {
   "cell_type": "code",
   "execution_count": 7,
   "metadata": {},
   "outputs": [
    {
     "name": "stdout",
     "output_type": "stream",
     "text": [
      "A.shape = (1, 3)\n",
      "m = 1 n = 3\n",
      "infinity-norm of A =  3.0\n",
      "\n",
      "2-norm of A * x: 3.0\n",
      "2-norm of x: 1.7320508075688772\n",
      "||A*x||_2/||x||_2): 1.7320508075688774\n",
      "\n",
      "√n * ||A*x||_2 / ||x||_2 - A_inf should be = 0 when a tight bound\n",
      "0.0\n"
     ]
    }
   ],
   "source": [
    "# Compare the equivalence of the infinity-norm and 2-norm of a matrix\n",
    "# According to theory ||A||_inf ≤ √n * ||A||_2 \n",
    "# where A is an m by n complex matrix.\n",
    "\n",
    "import numpy as np\n",
    "from scipy.linalg import norm\n",
    "import math\n",
    "\n",
    "# A = np.array([[1], [1], [1]])\n",
    "# x = np.array([[1]])\n",
    "A = np.array([[1, 1, 1]])\n",
    "x = np.array([[1], [1], [1]])\n",
    "\n",
    "print(f\"{A.shape = }\")\n",
    "m, n = A.shape\n",
    "print(f\"{m = }\", f\"{n = }\")\n",
    "A_inf = norm(A, np.inf)\n",
    "print(\"infinity-norm of A = \", A_inf)\n",
    "\n",
    "print()\n",
    "Ax_2 = norm(np.dot(A,x))\n",
    "x_2 = norm(x)\n",
    "A_2 = Ax_2 / x_2\n",
    "\n",
    "print(\"2-norm of A * x:\", Ax_2)\n",
    "print(\"2-norm of x:\", x_2)\n",
    "print(\"||A*x||_2/||x||_2):\", A_2)\n",
    "\n",
    "print()\n",
    "print(\"√n * ||A*x||_2 / ||x||_2 - A_inf should be = 0 when a tight bound\")\n",
    "print(math.sqrt(n) * A_2 - A_inf)"
   ]
  },
  {
   "cell_type": "code",
   "execution_count": 105,
   "metadata": {},
   "outputs": [
    {
     "name": "stdout",
     "output_type": "stream",
     "text": [
      "A.shape = (1, 3)\n",
      "m = 1 n = 3\n",
      "infinity-norm of A =  3.0\n",
      "\n",
      "Frobenius-norm of A =  1.7320508075688772\n",
      "\n",
      "√n * A_F - A_inf should be = 0 when a tight bound\n",
      "-4.440892098500626e-16\n"
     ]
    }
   ],
   "source": [
    "# Compare the equivalence of the infinity-norm and 2-norm of a matrix\n",
    "# According to theory ||A||_inf ≤ √n * ||A||_F \n",
    "# where A is an m by n complex matrix.\n",
    "\n",
    "import numpy as np\n",
    "from scipy.linalg import norm\n",
    "import math\n",
    "\n",
    "# A = np.array([[1], [0], [0]])\n",
    "A = np.array([[1, 1, 1]])\n",
    "\n",
    "\n",
    "print(f\"{A.shape = }\")\n",
    "m, n = A.shape\n",
    "print(f\"{m = }\", f\"{n = }\")\n",
    "\n",
    "A_inf = norm(A, np.inf)\n",
    "print(\"infinity-norm of A = \", A_inf)\n",
    "\n",
    "print()\n",
    "A_fro = norm(A)\n",
    "print(\"Frobenius-norm of A = \", A_fro)\n",
    "\n",
    "print()\n",
    "print(\"√n * A_F - A_inf should be = 0 when a tight bound\")\n",
    "print(math.sqrt(n) * A_fro - A_inf)"
   ]
  },
  {
   "cell_type": "code",
   "execution_count": 101,
   "metadata": {},
   "outputs": [
    {
     "name": "stdout",
     "output_type": "stream",
     "text": [
      "A.shape = (3, 1)\n",
      "m = 3 n = 1\n",
      "infinity-norm of A =  1.0\n",
      "\n",
      "Frobenius-norm of A =  1.0\n",
      "\n",
      "√n * A_F - A_inf should be = 0 when a tight bound\n",
      "0.0\n"
     ]
    }
   ],
   "source": [
    "# Compare the equivalence of the 1-norm and infinity-norm of a matrix\n",
    "# According to theory ||A||_1 ≤ m * ||A||_inf\n",
    "# where A is an m by n complex matrix.\n",
    "\n",
    "import numpy as np\n",
    "from scipy.linalg import norm\n",
    "import math\n",
    "\n",
    "A = np.array([[1], [1], [1]])\n",
    "# A = np.array([[1, 1, 1]])\n",
    "\n",
    "print(f\"{A.shape = }\")\n",
    "m, n = A.shape\n",
    "print(f\"{m = }\", f\"{n = }\")\n",
    "\n",
    "A_1 = norm(A, 1)\n",
    "print(\"infinity-norm of A = \", A_inf)\n",
    "\n",
    "print()\n",
    "A_inf = norm(A, np.inf)\n",
    "print(\"Frobenius-norm of A = \", A_fro)\n",
    "\n",
    "print()\n",
    "print(\"√n * A_F - A_inf should be = 0 when a tight bound\")\n",
    "print(m * A_inf - A_1)"
   ]
  },
  {
   "cell_type": "code",
   "execution_count": 128,
   "metadata": {},
   "outputs": [
    {
     "name": "stdout",
     "output_type": "stream",
     "text": [
      "A.shape = (3, 1)\n",
      "2-norm of A * x: 3.4641016151377544\n",
      "2-norm of x: 2.0\n",
      "||A*x||_2/||x||_2): 1.7320508075688772\n",
      "\n",
      "m = 3 n = 1\n",
      "infinity-norm of A =  1.0\n",
      "\n",
      "√m * A_inf -  ||A*x||_2 / ||x||_2 should be = 0 when a tight bound\n",
      "0.0\n"
     ]
    }
   ],
   "source": [
    "# Compare the equivalence of the infinity-norm and 2-norm of a matrix\n",
    "# According to theory ||A||_2 ≤ √m * ||A||_inf\n",
    "# where A is an m by n complex matrix.\n",
    "\n",
    "import numpy as np\n",
    "from scipy.linalg import norm\n",
    "import math\n",
    "\n",
    "A = np.array([[1], [1], [1]])\n",
    "# A = np.array([[1, 1, 1]])\n",
    "x = np.array([[2]])\n",
    "\n",
    "print(f\"{A.shape = }\")\n",
    "m, n = A.shape\n",
    "\n",
    "Ax_2 = norm(np.dot(A,x))\n",
    "x_2 = norm(x)\n",
    "A_2 = Ax_2 / x_2\n",
    "\n",
    "print(\"2-norm of A * x:\", Ax_2)\n",
    "print(\"2-norm of x:\", x_2)\n",
    "print(\"||A*x||_2/||x||_2):\", A_2)\n",
    "\n",
    "print()\n",
    "print(f\"{m = }\", f\"{n = }\")\n",
    "A_inf = norm(A, np.inf)\n",
    "print(\"infinity-norm of A = \", A_inf)\n",
    "\n",
    "print()\n",
    "print(\"√m * A_inf -  ||A*x||_2 / ||x||_2 should be = 0 when a tight bound\")\n",
    "print(math.sqrt(m) * A_inf - A_2)"
   ]
  },
  {
   "cell_type": "code",
   "execution_count": 129,
   "metadata": {},
   "outputs": [
    {
     "name": "stdout",
     "output_type": "stream",
     "text": [
      "A.shape = (3, 1)\n",
      "2-norm of A * x: 3.4641016151377544\n",
      "2-norm of x: 2.0\n",
      "||A*x||_2/||x||_2): 1.7320508075688772\n",
      "\n",
      "m = 3 n = 1\n",
      "Frobenius norm of A =  1.7320508075688772\n",
      "\n",
      "||A||_F -  ||A*x||_2 should be = 0 when a tight bound\n",
      "0.0\n"
     ]
    }
   ],
   "source": [
    "# Compare the equivalence of the 2-norm and Frobenius-norm of a matrix\n",
    "# According to theory ||A||_2 ≤ ||A||_F\n",
    "# where A is an m by n complex matrix.\n",
    "\n",
    "import numpy as np\n",
    "from scipy.linalg import norm\n",
    "import math\n",
    "\n",
    "A = np.array([[1], [1], [1]])\n",
    "x = np.array([[2]])\n",
    "# A = np.array([[1, 1, 1]])\n",
    "# x = np.array([[1], [1], [1]])\n",
    "\n",
    "print(f\"{A.shape = }\")\n",
    "m, n = A.shape\n",
    "\n",
    "Ax_2 = norm(np.dot(A,x))\n",
    "x_2 = norm(x)\n",
    "A_2 = Ax_2 / x_2\n",
    "\n",
    "print(\"2-norm of A * x:\", Ax_2)\n",
    "print(\"2-norm of x:\", x_2)\n",
    "print(\"||A*x||_2/||x||_2):\", A_2)\n",
    "\n",
    "print()\n",
    "print(f\"{m = }\", f\"{n = }\")\n",
    "A_F = norm(A)\n",
    "print(\"Frobenius norm of A = \", A_F)\n",
    "\n",
    "print()\n",
    "print(\"||A||_F -  ||A*x||_2 / ||x||_2 should be = 0 when a tight bound\")\n",
    "print(A_F - A_2)"
   ]
  },
  {
   "cell_type": "code",
   "execution_count": 123,
   "metadata": {},
   "outputs": [
    {
     "name": "stdout",
     "output_type": "stream",
     "text": [
      "Frobenius norm of A: 1.7320508075688772\n",
      "A.shape = (1, 3)\n",
      "1-norm of A: 1.0\n",
      "\n",
      "√n * A_1 - A_F should be ≥ 0\n",
      "0.0\n"
     ]
    }
   ],
   "source": [
    "# Compare the equivalence of the Frobenius norm and 1-norm of a matrix\n",
    "# According to theory ||A||_F ≤ √n * ||A||_1 \n",
    "# where A is an m by n complex matrix.\n",
    "\n",
    "import numpy as np\n",
    "from scipy.linalg import norm\n",
    "import math\n",
    "\n",
    "# A = np.array([[1], [1], [1]])\n",
    "# x = np.array([[0.5]])\n",
    "A = np.array([[1, 1, 1]])\n",
    "\n",
    "A_F = norm(A)\n",
    "print(\"Frobenius norm of A:\", A_F)\n",
    "\n",
    "print(f\"{A.shape = }\")\n",
    "m, n = A.shape\n",
    "A_1 = norm(A, 1)\n",
    "print(\"1-norm of A:\", A_1)\n",
    "\n",
    "print()\n",
    "print(\"√n * A_1 - A_F should be ≥ 0\")\n",
    "print(math.sqrt(n) * A_1 - A_F)"
   ]
  },
  {
   "cell_type": "code",
   "execution_count": 125,
   "metadata": {},
   "outputs": [
    {
     "name": "stdout",
     "output_type": "stream",
     "text": [
      "Frobenius norm of A: 1.7320508075688772\n",
      "A.shape = (3, 1)\n",
      "1-norm of A: 1.0\n",
      "\n",
      "√m * A_inf - A_F should be ≥ 0\n",
      "0.0\n"
     ]
    }
   ],
   "source": [
    "# Compare the equivalence of the Frobenius norm and the infinity-norm of a matrix\n",
    "# According to theory ||A||_F ≤ √m * ||A||_inf \n",
    "# where A is an m by n complex matrix.\n",
    "\n",
    "import numpy as np\n",
    "from scipy.linalg import norm\n",
    "import math\n",
    "\n",
    "A = np.array([[1], [1], [1]])\n",
    "# A = np.array([[1, 1, 1]])\n",
    "\n",
    "A_F = norm(A)\n",
    "print(\"Frobenius norm of A:\", A_F)\n",
    "\n",
    "print(f\"{A.shape = }\")\n",
    "m, n = A.shape\n",
    "A_inf = norm(A, np.inf)\n",
    "print(\"1-norm of A:\", A_1)\n",
    "\n",
    "print()\n",
    "print(\"√m * A_inf - A_F should be ≥ 0\")\n",
    "print(math.sqrt(m) * A_1 - A_F)"
   ]
  },
  {
   "cell_type": "code",
   "execution_count": 133,
   "metadata": {},
   "outputs": [
    {
     "name": "stdout",
     "output_type": "stream",
     "text": [
      "A.shape = (1, 3)\n",
      "\n",
      "m = 1 n = 3\n",
      "Frobenius norm of A =  1.7320508075688772\n",
      "\n",
      "2-norm of A * x: 3.0\n",
      "2-norm of x: 1.7320508075688772\n",
      "||A*x||_2/||x||_2): 1.7320508075688774\n",
      "\n",
      "√n * ||A*x||_2 / ||x||_2 -  ||A||_F should be = 0 when a tight bound\n",
      "1.2679491924311228\n"
     ]
    }
   ],
   "source": [
    "# Compare the equivalence of the Frobenius-norm and 2-norm of a matrix\n",
    "# According to theory ||A||_F ≤ √n * ||A||_2\n",
    "# where A is an m by n complex matrix.\n",
    "\n",
    "import numpy as np\n",
    "from scipy.linalg import norm\n",
    "import math\n",
    "\n",
    "A = np.array([[1], [1], [1]])\n",
    "x = np.array([[2]])\n",
    "# A = np.array([[1, 1, 1]])\n",
    "# x = np.array([[1], [1], [1]])\n",
    "\n",
    "print(f\"{A.shape = }\")\n",
    "m, n = A.shape\n",
    "\n",
    "\n",
    "print()\n",
    "print(f\"{m = }\", f\"{n = }\")\n",
    "A_F = norm(A)\n",
    "print(\"Frobenius norm of A = \", A_F)\n",
    "\n",
    "Ax_2 = norm(np.dot(A,x))\n",
    "x_2 = norm(x)\n",
    "A_2 = Ax_2 / x_2\n",
    "\n",
    "print()\n",
    "print(\"2-norm of A * x:\", Ax_2)\n",
    "print(\"2-norm of x:\", x_2)\n",
    "print(\"||A*x||_2/||x||_2):\", A_2)\n",
    "\n",
    "print()\n",
    "print(\"√n * ||A*x||_2 / ||x||_2 -  ||A||_F should be = 0 when a tight bound\")\n",
    "print(math.sqrt(n) * A_2 - A_F)"
   ]
  },
  {
   "cell_type": "code",
   "execution_count": 8,
   "metadata": {},
   "outputs": [
    {
     "name": "stdout",
     "output_type": "stream",
     "text": [
      "A, = (array([[ 1,  2, -1],\n",
      "       [-1,  1,  0]]),)\n",
      "norm(A,1) = 3.0\n",
      "norm(A,np.inf) = 4.0\n"
     ]
    }
   ],
   "source": [
    "# HW 1.6.1.5\n",
    "\n",
    "import numpy as np\n",
    "from scipy.linalg import norm\n",
    "import math\n",
    "\n",
    "A = np.array([[1, 2, -1],[-1, 1, 0]])\n",
    "\n",
    "print(f\"{A, = }\")\n",
    "\n",
    "print()\n",
    "print(f\"{norm(A,1) = }\")\n",
    "print(f\"{norm(A,np.inf) = }\")\n",
    "print(f\"{norm(A,np.inf) = }\")"
   ]
  }
 ],
 "metadata": {
  "kernelspec": {
   "display_name": "Python 3",
   "language": "python",
   "name": "python3"
  },
  "language_info": {
   "codemirror_mode": {
    "name": "ipython",
    "version": 3
   },
   "file_extension": ".py",
   "mimetype": "text/x-python",
   "name": "python",
   "nbconvert_exporter": "python",
   "pygments_lexer": "ipython3",
   "version": "3.8.1"
  }
 },
 "nbformat": 4,
 "nbformat_minor": 2
}
